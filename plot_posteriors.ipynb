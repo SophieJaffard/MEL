{
 "cells": [
  {
   "cell_type": "code",
   "execution_count": 1,
   "metadata": {},
   "outputs": [],
   "source": [
    "import torch\n",
    "import matplotlib.pyplot as plt\n",
    "import numpy as np\n",
    "import csv\n",
    "\n",
    "plt.rc('text', usetex=True)\n",
    "plt.rc('font', family='serif')\n",
    "\n",
    "def numerotation_part(x):\n",
    "    part = ['307','308','309','301','303','304','364','365','366','367']\n",
    "    for i in range(len(part)):\n",
    "       # print(part[i])\n",
    "       # print(x == part[i])\n",
    "        if x == part[i]:\n",
    "            return str(i+1)\n",
    "    print('add participant')"
   ]
  },
  {
   "cell_type": "markdown",
   "metadata": {},
   "source": [
    "Plot of the posteriors of $s$ and $\\eta$ given by the SBI method for simulated data "
   ]
  },
  {
   "cell_type": "code",
   "execution_count": null,
   "metadata": {},
   "outputs": [],
   "source": [
    "# Sample data for testing\n",
    "eta_0 = [0.2, 1]\n",
    "s_0 = [0.1, 0.15]\n",
    "\n",
    "eta_inf = 0.09\n",
    "eta_sup = 2\n",
    "s_inf = 0.04\n",
    "s_sup = 1 / 5\n",
    "\n",
    "n = len(eta_0)\n",
    "fig, axs = plt.subplots(2, n, figsize=(8, 3))\n",
    "\n",
    "for i in range(n):\n",
    "    try:\n",
    "        sample = torch.load(f'/Users/sophiejaffard/Desktop/Expé/old code discrete time/saves_sbi/sample_{eta_inf}_{eta_sup}_{s_inf}_{s_sup}_{eta_0[i]}_{s_0[i]}.pt')\n",
    "\n",
    "        eta_sim = sample.numpy()[:, 0]\n",
    "        s_sim = sample.numpy()[:, 1]\n",
    "\n",
    "        axs[0, i].axvline(x=eta_0[i], color='red', label='$\\eta$')\n",
    "        axs[0, i].hist(eta_sim, bins=30, label='$\\hat{\\eta}$')\n",
    "        axs[0, i].set_xlim(eta_inf, eta_sup)\n",
    "        axs[0, i].set_yticks([200, 400])\n",
    "        axs[0, i].set_xticks([0.09, 1, 2])\n",
    "        axs[0, i].legend()\n",
    "        axs[0, i].set_title(fr'Histograms of $\\hat{{\\eta}}$ and $\\hat{{\\theta}}$ for sample {i + 1}')\n",
    "\n",
    "        axs[1, i].hist(s_sim, bins=30, label=r'$\\hat{\\theta}$')\n",
    "        axs[1, i].axvline(x=s_0[i], color='red', label=r'$\\theta$')\n",
    "        axs[1, i].set_xlim(s_inf, s_sup)\n",
    "        axs[1, i].set_yticks([200, 400])\n",
    "        axs[1, i].set_xticks([0.04, 0.1, 0.2])\n",
    "        axs[1, i].legend()\n",
    "        #axs[1, i].set_title(f'Histogram of $s$ for sample {i + 1}')\n",
    "    except FileNotFoundError:\n",
    "        print(f\"File for sample {i + 1} not found. Please check the path and filename.\")\n",
    "\n",
    "plt.tight_layout()\n",
    "plt.savefig('hist_simulated_data.pdf')\n",
    "plt.show()\n"
   ]
  },
  {
   "cell_type": "markdown",
   "metadata": {},
   "source": [
    "Plot of the posteriors given by the SBI method for real data"
   ]
  },
  {
   "cell_type": "code",
   "execution_count": null,
   "metadata": {},
   "outputs": [],
   "source": [
    "# Sample data for testing\n",
    "participants = ['307','308','309'] #the participant numbers can be changed to see results for other participants\n",
    "eta_inf = 0.09\n",
    "eta_sup = 2\n",
    "s_inf = 0.04\n",
    "s_sup = 1 / 5\n",
    "\n",
    "n = len(participants)\n",
    "fig, axs = plt.subplots(2, n, figsize=(8, 3))\n",
    "\n",
    "for i in range(n):\n",
    "    part = participants[i]\n",
    "    try:\n",
    "        sample = torch.load(f'/Users/sophiejaffard/Desktop/Expé/old code discrete time/saves_sbi/sample_new_{eta_inf}_{eta_sup}_{s_inf}_{s_sup}_{part}_{part}.pt')\n",
    "\n",
    "        eta_sim = sample.numpy()[:, 0]\n",
    "        s_sim = sample.numpy()[:, 1]\n",
    "\n",
    "        #axs[0, i].axvline(x=eta_0[i], color='red', label='$\\eta$')\n",
    "        axs[0, i].hist(eta_sim, bins=30, label='$\\hat{\\eta}$')\n",
    "        axs[0, i].set_xlim(eta_inf, eta_sup)\n",
    "        axs[0, i].set_yticks([200, 400])\n",
    "        axs[0, i].set_xticks([0.09, 1, 2])\n",
    "        axs[0, i].legend()\n",
    "        #axs[0, i].set_title(f'Participant {part}')\n",
    "        axs[0, i].set_title(f'Participant {numerotation_part(part)}')\n",
    "\n",
    "        axs[1, i].hist(s_sim, bins=30, label=r'$\\hat{\\theta}$')\n",
    "        #axs[1, i].axvline(x=s_0[i], color='red', label='$s$')\n",
    "        axs[1, i].set_xlim(s_inf, s_sup)\n",
    "        axs[1, i].set_yticks([200, 400])\n",
    "        axs[1, i].set_xticks([0.04, 0.1, 0.2])\n",
    "        axs[1, i].legend()\n",
    "        #axs[1, i].set_title(f'Histogram of $s$ for sample {i + 1}')\n",
    "    except FileNotFoundError:\n",
    "        print(f\"File for sample {i + 1} not found. Please check the path and filename.\")\n",
    "\n",
    "plt.tight_layout()\n",
    "plt.savefig('hist_real_data.pdf')\n",
    "plt.show()\n"
   ]
  }
 ],
 "metadata": {
  "kernelspec": {
   "display_name": "base",
   "language": "python",
   "name": "python3"
  },
  "language_info": {
   "codemirror_mode": {
    "name": "ipython",
    "version": 3
   },
   "file_extension": ".py",
   "mimetype": "text/x-python",
   "name": "python",
   "nbconvert_exporter": "python",
   "pygments_lexer": "ipython3",
   "version": "3.11.4"
  }
 },
 "nbformat": 4,
 "nbformat_minor": 2
}
