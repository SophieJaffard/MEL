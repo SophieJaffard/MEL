{
 "cells": [
  {
   "cell_type": "code",
   "execution_count": 1,
   "metadata": {},
   "outputs": [],
   "source": [
    "import csv\n",
    "import torch\n",
    "import numpy as np\n",
    "\n",
    "from functions_simulator import *\n",
    "import torch\n",
    "from sbi.utils import BoxUniform\n",
    "from sbi.inference import SNPE_A"
   ]
  },
  {
   "cell_type": "markdown",
   "metadata": {},
   "source": [
    "Retrieve answer times of every participant"
   ]
  },
  {
   "cell_type": "code",
   "execution_count": null,
   "metadata": {},
   "outputs": [],
   "source": [
    "nb_obj_max3 = 200\n",
    "nb_obj_max2 = 150\n",
    "nb_obj_max = 100\n",
    "\n",
    "part_middle_school = ['416','439','443','448','455','458','459','461','463','465','478','483','301', '302', '303', '304','307', '308', '309', '310', '311','312','314','316','315','722','737','738','739','740','741','749','753','759','765','769','772','773','774','777','780','783','784','787','790']\n",
    "part_university = ['339','355','405','406','363', '364', '365', '366', '367', '368', '369', '372', '375', '376', '377', '380', '381','385', '386', '388', '390', '392', '396', '397', '400', '404','408', '695','668','666','659','655','653','652','643','640','550','551','554','555','561','563','564','565','577','580','583','586','587','588', '597','601','605','608']\n",
    "participants = part_middle_school + part_university #Participants for which we run the SBI method\n",
    "\n",
    "#Retrive the data of the participants\n",
    "\n",
    "nb_obj_part = []\n",
    "\n",
    "nb_part = len(participants)\n",
    "times_participants = torch.zeros((nb_part,nb_obj_max3))\n",
    "\n",
    "for i in range(nb_part):\n",
    "    times_str = []\n",
    "    part = participants[i]\n",
    "    with open(f'{part}.csv', 'r') as file:\n",
    "        reader = csv.reader(file, delimiter=',')\n",
    "        for row in reader:\n",
    "            if row[4] == 'timeout':\n",
    "                times_str.append('5')\n",
    "            else:\n",
    "                times_str.append(row[6])\n",
    "\n",
    "    nb = len(times_str)\n",
    "    times_list = [float(times_str[i]) for i in range(1,nb)]\n",
    "    n = len(times_list)\n",
    "    if n <= nb_obj_max:\n",
    "        nb_obj_part.append(nb_obj_max)\n",
    "    elif n <= nb_obj_max2:\n",
    "        nb_obj_part.append(nb_obj_max2)\n",
    "    elif n <= nb_obj_max3:\n",
    "        nb_obj_part.append(nb_obj_max3)\n",
    "    else : print('The number of answers is too large')\n",
    "\n",
    "    times_0 = torch.zeros(nb_obj_max3)\n",
    "    times_0[:n] = torch.tensor(times_list)\n",
    "    times_0[n:] += np.sum(np.array(times_0[n-18:n]))/18\n",
    "    times_participants[i,:] = times_0"
   ]
  },
  {
   "cell_type": "markdown",
   "metadata": {},
   "source": [
    "Define the simulator function used by the SBI method"
   ]
  },
  {
   "cell_type": "code",
   "execution_count": 21,
   "metadata": {},
   "outputs": [],
   "source": [
    "def simulator_sbi(theta, nb_obj):\n",
    "    num_sims = theta.shape[0] #number of simulations\n",
    "    res = []\n",
    "    if num_sims == 2:\n",
    "        cond = True #becomes false if the learning task is achieved\n",
    "        count = 0\n",
    "        while cond:\n",
    "            eta = theta.numpy()[0]\n",
    "            s = theta.numpy()[1]\n",
    "            nb_iter, times, accuracy = simulator_vectorized(eta, s, nb_obj_max=nb_obj)\n",
    "            #print(nb_iter)\n",
    "            if nb_iter < nb_obj_max + 1 :\n",
    "                cond = False\n",
    "            if count > 100:\n",
    "                print('count too big')\n",
    "                cond = False\n",
    "            count +=1\n",
    "        res.append(times)\n",
    "        #print(count)\n",
    "    else:\n",
    "        for n in range(num_sims):\n",
    "            cond = True #becomes false if the learning task is achieved\n",
    "            count = 0\n",
    "            while cond:\n",
    "                eta = theta.numpy()[n,0]\n",
    "                s = theta.numpy()[n,1]\n",
    "                nb_iter, times, accuracy = simulator_vectorized(eta, s, nb_obj_max=nb_obj)\n",
    "                if nb_iter < nb_obj_max + 1 :\n",
    "                    cond = False\n",
    "                if count > 100:\n",
    "                    print('count too big')\n",
    "                    cond = False\n",
    "                count +=1\n",
    "            res.append(times)\n",
    "    res = np.array(res)\n",
    "    return torch.FloatTensor(res)"
   ]
  },
  {
   "cell_type": "markdown",
   "metadata": {},
   "source": [
    "Run the SBI method"
   ]
  },
  {
   "cell_type": "code",
   "execution_count": null,
   "metadata": {},
   "outputs": [],
   "source": [
    "num_dims = 2 #s and eta\n",
    "num_sims = 1000\n",
    "\n",
    "#Define a prior on the parameters\n",
    "eta_inf = 0.09\n",
    "eta_sup = 2\n",
    "s_inf = 0.04\n",
    "s_sup = 0.2\n",
    "\n",
    "prior = BoxUniform(low=torch.tensor([eta_inf,s_inf]), high=torch.tensor([eta_sup,s_sup]))\n",
    "\n",
    "num_rounds = 2\n",
    "for i in range(nb_part):\n",
    "    part = participants[i]\n",
    "    nb_obj = nb_obj_part[i]\n",
    "    print(part)\n",
    "    x_0 = times_participants[i,:nb_obj]\n",
    "    inference = SNPE_A(prior)\n",
    "    proposal = prior\n",
    "    for _ in range(num_rounds):\n",
    "        theta = proposal.sample((num_sims,))\n",
    "        x = simulator_sbi(theta, nb_obj)\n",
    "        _ = inference.append_simulations(theta, x, proposal=proposal).train()\n",
    "        posterior = inference.build_posterior().set_default_x(x_0)\n",
    "        proposal = posterior\n",
    "\n",
    "    torch.save(posterior, f'/Users/sophiejaffard/Desktop/Expé/old code discrete time/saves_sbi/posterior_new_{eta_inf}_{eta_sup}_{s_inf}_{s_sup}_{part}.pt')\n",
    "    sample = posterior.sample((5000,))\n",
    "    torch.save(sample, f'/Users/sophiejaffard/Desktop/Expé/old code discrete time/saves_sbi/sample_new_{eta_inf}_{eta_sup}_{s_inf}_{s_sup}_{part}_{part}.pt')"
   ]
  }
 ],
 "metadata": {
  "kernelspec": {
   "display_name": "base",
   "language": "python",
   "name": "python3"
  },
  "language_info": {
   "codemirror_mode": {
    "name": "ipython",
    "version": 3
   },
   "file_extension": ".py",
   "mimetype": "text/x-python",
   "name": "python",
   "nbconvert_exporter": "python",
   "pygments_lexer": "ipython3",
   "version": "3.11.4"
  }
 },
 "nbformat": 4,
 "nbformat_minor": 2
}
